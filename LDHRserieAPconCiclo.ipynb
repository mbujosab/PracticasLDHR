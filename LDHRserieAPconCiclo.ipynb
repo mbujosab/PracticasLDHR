{
 "cells": [
  {
   "cell_type": "markdown",
   "metadata": {},
   "source": [
    "# Linear Dynamic Harmonic Regression (LDHR)"
   ]
  },
  {
   "cell_type": "markdown",
   "metadata": {},
   "source": [
    "__Parece que los notebooks no están muy perfecionados (o mi instalación tiene problemas). Algunos comandos fallan la primera vez que se ejecutan.__"
   ]
  },
  {
   "cell_type": "markdown",
   "metadata": {},
   "source": [
    "Para el filtrado (filtro de Kalman y suavizado de intervalo fijo) usaremos la toolbok [E4](https://www.ucm.es/e-4/), para ello es necesario ejecutar lo siguiente:"
   ]
  },
  {
   "cell_type": "code",
   "execution_count": 23,
   "metadata": {},
   "outputs": [
    {
     "name": "stdout",
     "output_type": "stream",
     "text": [
      "\r\n",
      "            XXXXXX 4 4      XXXXX  XX     XX  XX  XXXXXX (c)\r\n",
      "           XX      444     XX  XX XX     XX  XX  XX\r\n",
      "          XXXX       4    XXXXX  XX     XX  XX  XXXXXX\r\n",
      "         XX              XX     XX     XX  XX      XX\r\n",
      "        XXXXXX          XX     XXXXXX XXXXXX  XXXXXX\r\n",
      "\r\n",
      "    Toolbox for State Space Estimation of Econometric Models\r\n",
      " \r\n",
      "*********************** Options set by user ********************\r\n",
      "Filter. . . . . . . . . . . . . : KALMAN\r\n",
      "Scaled B and M matrices . . . . : NO\r\n",
      "Initial state vector. . . . . . : AUTOMATIC SELECTION\r\n",
      "Initial covariance of state v.  : IDEJONG\r\n",
      "Variance or Cholesky factor?  . : VARIANCE\r\n",
      "Optimization algorithm. . . . . : BFGS\r\n",
      "Maximum step length . . . . . . : 0.100000\r\n",
      "Stop tolerance. . . . . . . . . : 0.000010\r\n",
      "Max. number of iterations . . . :       75\r\n",
      "Verbose iterations. . . . . . . : YES\r\n",
      "****************************************************************\r\n",
      " \r\n",
      " \r\n"
     ]
    }
   ],
   "source": [
    "e4init"
   ]
  },
  {
   "cell_type": "markdown",
   "metadata": {},
   "source": [
    "Tambien es necesario cargar el toolbox de control"
   ]
  },
  {
   "cell_type": "code",
   "execution_count": 24,
   "metadata": {},
   "outputs": [],
   "source": [
    "pkg load control"
   ]
  },
  {
   "cell_type": "markdown",
   "metadata": {},
   "source": [
    "Cargamos los datos de la serie _\"lineas aéreas\"_"
   ]
  },
  {
   "cell_type": "code",
   "execution_count": 25,
   "metadata": {},
   "outputs": [],
   "source": [
    "load airpas"
   ]
  },
  {
   "cell_type": "markdown",
   "metadata": {},
   "source": [
    "Por comodidad vamos a generar la variable 'y' con los mismos datos (es más cómodo escribir `y` que escribir `airpas`)"
   ]
  },
  {
   "cell_type": "code",
   "execution_count": 26,
   "metadata": {},
   "outputs": [],
   "source": [
    "y = airpas;"
   ]
  },
  {
   "cell_type": "markdown",
   "metadata": {},
   "source": [
    "y ahora vamos a representar los datos de la serie de líneas aéreas"
   ]
  },
  {
   "cell_type": "code",
   "execution_count": 27,
   "metadata": {},
   "outputs": [
    {
     "data": {
      "image/png": "[encoded data removed]",
      "text/plain": [
       "<IPython.core.display.Image object>"
      ]
     },
     "metadata": {},
     "output_type": "display_data"
    }
   ],
   "source": [
    "%plot --format png\n",
    "figure(1)\n",
    "grid on\n",
    "hold on\n",
    "title('Pasajeros de lineas aereas') % fallan los acentos\n",
    "plot(airpas, 'r')"
   ]
  },
  {
   "cell_type": "code",
   "execution_count": 28,
   "metadata": {},
   "outputs": [],
   "source": [
    "#close(1) % por si generamos la figura en una ventana y la queremos cerrar después"
   ]
  },
  {
   "cell_type": "markdown",
   "metadata": {},
   "source": [
    "En `PaP` guadaremos un vector con los periodos correspondientes a la estacionalidad para datos mensuales:"
   ]
  },
  {
   "cell_type": "code",
   "execution_count": 29,
   "metadata": {},
   "outputs": [
    {
     "name": "stdout",
     "output_type": "stream",
     "text": [
      "PaP =\r\n",
      "\r\n",
      "     Inf   30.00   12.00    6.00    4.00    3.00    2.40    2.00\r\n",
      "\r\n"
     ]
    }
   ],
   "source": [
    "PaP=[Inf, 30, 12./(1:6)]"
   ]
  },
  {
   "cell_type": "markdown",
   "metadata": {},
   "source": [
    "esta serie es un tanto especial, pues el pico espectral correspondiente al periodo 2 es muy ténue (o inexistente), por ello vamos a poner dos ceros para ese componente DHR (para que no trate de identificarlo). Si no lo hacemos así, identificará un modelo para la tendencia más volatil al tratar de ajustar un componente a las oscilaciones de periodo 2 (con la serie en logaritmos si se identifica un modelo IRW para la tendencia incluso si incormporamos el componente de periodo 2)."
   ]
  },
  {
   "cell_type": "code",
   "execution_count": 30,
   "metadata": {},
   "outputs": [
    {
     "name": "stdout",
     "output_type": "stream",
     "text": [
      "TVPaP =\r\n",
      "\r\n",
      "   1.00   1.00   1.00   1.00   1.00   1.00   1.00      0\r\n",
      "   1.00      0      0      0      0      0      0      0\r\n",
      "\r\n"
     ]
    }
   ],
   "source": [
    "TVPaP=[1 1 1 1 1 1 1 0;1 0 0 0 0 0 0 0]"
   ]
  },
  {
   "cell_type": "code",
   "execution_count": 31,
   "metadata": {},
   "outputs": [
    {
     "name": "stdout",
     "output_type": "stream",
     "text": [
      "warning: a non-unique solution may be returned due to equal gradients\n",
      "warning: called from\n",
      "    lsqnonneg at line 187 column 7\n",
      "    autodhr at line 328 column 15\n",
      "\n",
      "warning: a non-unique solution may be returned due to equal gradients\n",
      "warning: called from\n",
      "    lsqnonneg at line 187 column 7\n",
      "    autodhr at line 328 column 15\n",
      "\n",
      "warning: a non-unique solution may be returned due to equal gradients\n",
      "warning: called from\n",
      "    lsqnonneg at line 187 column 7\n",
      "    autodhr at line 328 column 15\n",
      "\n",
      "warning: a non-unique solution may be returned due to equal gradients\n",
      "warning: called from\n",
      "    lsqnonneg at line 187 column 7\n",
      "    autodhr at line 328 column 15\n",
      "\n",
      "warning: a non-unique solution may be returned due to equal gradients\n",
      "warning: called from\n",
      "    lsqnonneg at line 187 column 7\n",
      "    autodhr at line 328 column 15\n",
      "\n",
      "warning: a non-unique solution may be returned due to equal gradients\n",
      "warning: called from\n",
      "    lsqnonneg at line 187 column 7\n",
      "    autodhr at line 328 column 15\n",
      "\n",
      "warning: a non-unique solution may be returned due to equal gradients\n",
      "warning: called from\n",
      "    lsqnonneg at line 187 column 7\n",
      "    autodhr at line 328 column 15\n",
      "\n",
      "warning: a non-unique solution may be returned due to equal gradients\n",
      "warning: called from\n",
      "    lsqnonneg at line 187 column 7\n",
      "    autodhr at line 328 column 15\n",
      "\n",
      "VAR =\n",
      "\n",
      "   17.03    0.07    0.58    6.98    1.00    0.45    0.29    0.49    0.00\n",
      "\n",
      "P =\n",
      "\n",
      "     Inf   30.00   12.00    6.00    4.00    3.00    2.40    2.00\n",
      "\n",
      "TVP =\n",
      "\n",
      "   1.00   1.00   1.00   1.00   1.00   1.00   1.00      0\n",
      "   1.00      0      0      0      0      0      0      0\n",
      "\n",
      "oar = 30.00\n"
     ]
    }
   ],
   "source": [
    "[VAR,P,TVP,oar]=autodhr(y,12,[],[],PaP,TVPaP,[28:32]) % la primera vez que lo ejecutemos nos dará unos warnings (luego no)"
   ]
  },
  {
   "cell_type": "markdown",
   "metadata": {},
   "source": [
    "Podemos calcular los ratios de varianzas (NVR) del siguiente modo:"
   ]
  },
  {
   "cell_type": "code",
   "execution_count": 32,
   "metadata": {},
   "outputs": [
    {
     "name": "stdout",
     "output_type": "stream",
     "text": [
      "NVR =\r\n",
      "\r\n",
      "   0.00   0.03   0.41   0.06   0.03   0.02   0.03\r\n",
      "\r\n"
     ]
    }
   ],
   "source": [
    "NVR=VAR(2:8)./VAR(1)"
   ]
  },
  {
   "cell_type": "markdown",
   "metadata": {},
   "source": [
    "Vamos a filtrar los componentes con el modelo identificado"
   ]
  },
  {
   "cell_type": "code",
   "execution_count": 33,
   "metadata": {},
   "outputs": [],
   "source": [
    "filt=0;\n",
    "[trend,season,cycle,irreg]=dhrfilt(y,P,TVP,VAR,12,filt,0);"
   ]
  },
  {
   "cell_type": "code",
   "execution_count": 34,
   "metadata": {},
   "outputs": [
    {
     "name": "stdout",
     "output_type": "stream",
     "text": [
      "trend =\r\n",
      "\r\n",
      "   121.96   119.02     2.94\r\n",
      "   122.86   120.12     2.74\r\n",
      "   123.64   121.23     2.41\r\n",
      "   124.28   122.34     1.95\r\n",
      "   124.92   123.46     1.46\r\n",
      "   125.43   124.58     0.85\r\n",
      "   125.92   125.71     0.20\r\n",
      "   126.39   126.87    -0.48\r\n",
      "   126.98   128.05    -1.07\r\n",
      "   127.66   129.27    -1.61\r\n",
      "   128.51   130.53    -2.02\r\n",
      "   129.44   131.82    -2.39\r\n",
      "   130.50   133.17    -2.66\r\n",
      "   131.76   134.57    -2.81\r\n",
      "   133.33   136.06    -2.73\r\n",
      "   135.04   137.61    -2.57\r\n",
      "   137.02   139.25    -2.24\r\n",
      "   139.14   140.98    -1.84\r\n",
      "   141.59   142.81    -1.23\r\n",
      "   144.13   144.73    -0.59\r\n",
      "   146.75   146.72     0.03\r\n",
      "   149.44   148.80     0.64\r\n",
      "   152.10   150.95     1.15\r\n",
      "   154.78   153.18     1.60\r\n",
      "   157.50   155.49     2.01\r\n",
      "   160.12   157.86     2.26\r\n",
      "   162.59   160.27     2.32\r\n",
      "   165.00   162.73     2.28\r\n",
      "   167.20   165.21     1.99\r\n",
      "   169.35   167.71     1.64\r\n",
      "   171.20   170.21     0.99\r\n",
      "   173.07   172.73     0.35\r\n",
      "   174.92   175.25    -0.34\r\n",
      "   176.81   177.78    -0.97\r\n",
      "   178.69   180.28    -1.59\r\n",
      "   180.63   182.77    -2.14\r\n",
      "   182.64   185.23    -2.59\r\n",
      "   184.79   187.66    -2.87\r\n",
      "   187.12   190.06    -2.93\r\n",
      "   189.41   192.41    -3.00\r\n",
      "   192.00   194.74    -2.74\r\n",
      "   194.85   197.05    -2.20\r\n",
      "   197.94   199.32    -1.37\r\n",
      "   200.90   201.51    -0.61\r\n",
      "   204.00   203.65     0.35\r\n",
      "   206.95   205.72     1.22\r\n",
      "   209.93   207.74     2.19\r\n",
      "   212.73   209.68     3.06\r\n",
      "   215.31   211.54     3.77\r\n",
      "   217.60   213.33     4.27\r\n",
      "   219.69   215.06     4.64\r\n",
      "   221.50   216.72     4.78\r\n",
      "   222.96   218.30     4.65\r\n",
      "   223.93   219.82     4.11\r\n",
      "   224.60   221.32     3.28\r\n",
      "   225.21   222.82     2.39\r\n",
      "   225.82   224.34     1.48\r\n",
      "   226.30   225.89     0.42\r\n",
      "   226.80   227.48    -0.67\r\n",
      "   227.36   229.13    -1.77\r\n",
      "   228.10   230.86    -2.76\r\n",
      "   229.11   232.71    -3.60\r\n",
      "   230.40   234.68    -4.28\r\n",
      "   232.21   236.79    -4.58\r\n",
      "   234.31   239.04    -4.73\r\n",
      "   236.85   241.43    -4.58\r\n",
      "   239.67   243.96    -4.29\r\n",
      "   242.87   246.64    -3.77\r\n",
      "   246.29   249.46    -3.17\r\n",
      "   250.06   252.44    -2.37\r\n",
      "   254.05   255.55    -1.50\r\n",
      "   258.23   258.81    -0.58\r\n",
      "   262.44   262.18     0.26\r\n",
      "   266.80   265.69     1.11\r\n",
      "   271.08   269.30     1.79\r\n",
      "   275.31   273.02     2.29\r\n",
      "   279.56   276.83     2.73\r\n",
      "   283.69   280.73     2.95\r\n",
      "   287.75   284.70     3.05\r\n",
      "   291.73   288.72     3.00\r\n",
      "   295.41   292.76     2.65\r\n",
      "   299.09   296.82     2.27\r\n",
      "   302.58   300.87     1.71\r\n",
      "   305.90   304.88     1.02\r\n",
      "   309.21   308.86     0.36\r\n",
      "   312.35   312.76    -0.40\r\n",
      "   315.47   316.58    -1.11\r\n",
      "   318.50   320.30    -1.80\r\n",
      "   321.56   323.92    -2.36\r\n",
      "   324.67   327.44    -2.77\r\n",
      "   327.88   330.84    -2.96\r\n",
      "   331.10   334.12    -3.03\r\n",
      "   334.48   337.30    -2.83\r\n",
      "   338.02   340.37    -2.35\r\n",
      "   341.62   343.33    -1.71\r\n",
      "   345.33   346.18    -0.85\r\n",
      "   349.08   348.93     0.14\r\n",
      "   352.77   351.58     1.19\r\n",
      "   356.42   354.13     2.29\r\n",
      "   359.97   356.58     3.39\r\n",
      "   363.20   358.93     4.27\r\n",
      "   366.13   361.18     4.95\r\n",
      "   368.81   363.36     5.44\r\n",
      "   371.01   365.46     5.54\r\n",
      "   372.94   367.52     5.43\r\n",
      "   374.57   369.53     5.04\r\n",
      "   375.76   371.51     4.25\r\n",
      "   376.72   373.49     3.23\r\n",
      "   377.49   375.47     2.01\r\n",
      "   378.05   377.49     0.55\r\n",
      "   378.64   379.57    -0.93\r\n",
      "   379.26   381.72    -2.46\r\n",
      "   380.08   383.98    -3.90\r\n",
      "   381.27   386.36    -5.09\r\n",
      "   382.90   388.86    -5.96\r\n",
      "   384.76   391.46    -6.69\r\n",
      "   387.11   394.17    -7.06\r\n",
      "   389.65   396.99    -7.34\r\n",
      "   392.84   399.95    -7.11\r\n",
      "   396.39   403.02    -6.63\r\n",
      "   400.32   406.20    -5.88\r\n",
      "   404.75   409.50    -4.75\r\n",
      "   409.50   412.89    -3.39\r\n",
      "   414.47   416.35    -1.88\r\n",
      "   419.34   419.87    -0.53\r\n",
      "   424.40   423.46     0.93\r\n",
      "   429.42   427.13     2.29\r\n",
      "   434.55   430.88     3.67\r\n",
      "   439.69   434.70     4.99\r\n",
      "   444.51   438.55     5.95\r\n",
      "   449.16   442.46     6.70\r\n",
      "   453.69   446.43     7.26\r\n",
      "   457.98   450.43     7.55\r\n",
      "   461.83   454.44     7.39\r\n",
      "   465.41   458.49     6.93\r\n",
      "   468.65   462.56     6.08\r\n",
      "   472.07   466.69     5.38\r\n",
      "   474.95   470.80     4.16\r\n",
      "   477.77   474.92     2.85\r\n",
      "   480.42   479.03     1.39\r\n",
      "   482.89   483.12    -0.24\r\n",
      "   485.37   487.22    -1.85\r\n",
      "   488.05   491.32    -3.27\r\n",
      "   490.67   495.41    -4.74\r\n",
      "\r\n"
     ]
    }
   ],
   "source": [
    "trend"
   ]
  },
  {
   "cell_type": "markdown",
   "metadata": {},
   "source": [
    "Visualicemos los componentes"
   ]
  },
  {
   "cell_type": "code",
   "execution_count": 35,
   "metadata": {},
   "outputs": [
    {
     "data": {
      "image/png": "[encoded data removed]",
      "text/plain": [
       "<IPython.core.display.Image object>"
      ]
     },
     "metadata": {},
     "output_type": "display_data"
    }
   ],
   "source": [
    "#figure(1)\n",
    "grid on\n",
    "hold on\n",
    "title('Pasajeros de lineas aereas y tendencia')\n",
    "plot([y,trend(:,2)])"
   ]
  },
  {
   "cell_type": "code",
   "execution_count": 36,
   "metadata": {},
   "outputs": [
    {
     "data": {
      "image/png": "[encoded data removed]",
      "text/plain": [
       "<IPython.core.display.Image object>"
      ]
     },
     "metadata": {},
     "output_type": "display_data"
    }
   ],
   "source": [
    "grid on\n",
    "hold on\n",
    "title('Pasajeros de lineas aereas y tendencia + ciclo')\n",
    "plot([y,trend(:,1)])"
   ]
  },
  {
   "cell_type": "code",
   "execution_count": 37,
   "metadata": {},
   "outputs": [
    {
     "data": {
      "image/png": "[encoded data removed]",
      "text/plain": [
       "<IPython.core.display.Image object>"
      ]
     },
     "metadata": {},
     "output_type": "display_data"
    }
   ],
   "source": [
    "plot([season])"
   ]
  },
  {
   "cell_type": "markdown",
   "metadata": {},
   "source": [
    "no hemos indicado componente para un ciclo (frecuencia intermedia entre la tendencia (0) y la frecuencia del primer armónico estacional)"
   ]
  },
  {
   "cell_type": "code",
   "execution_count": 38,
   "metadata": {},
   "outputs": [
    {
     "data": {
      "image/png": "[encoded data removed]",
      "text/plain": [
       "<IPython.core.display.Image object>"
      ]
     },
     "metadata": {},
     "output_type": "display_data"
    }
   ],
   "source": [
    "plot(cycle) # de periodo de arrededor de 30 meses"
   ]
  },
  {
   "cell_type": "code",
   "execution_count": 39,
   "metadata": {},
   "outputs": [
    {
     "data": {
      "image/png": "[encoded data removed]",
      "text/plain": [
       "<IPython.core.display.Image object>"
      ]
     },
     "metadata": {},
     "output_type": "display_data"
    }
   ],
   "source": [
    "plot(irreg)"
   ]
  },
  {
   "cell_type": "markdown",
   "metadata": {},
   "source": [
    "Pintemos la serie desestacionalizada `(trend + irreg`)"
   ]
  },
  {
   "cell_type": "code",
   "execution_count": 40,
   "metadata": {},
   "outputs": [
    {
     "data": {
      "image/png": "[encoded data removed]",
      "text/plain": [
       "<IPython.core.display.Image object>"
      ]
     },
     "metadata": {},
     "output_type": "display_data"
    }
   ],
   "source": [
    "APsa = trend(:,1)+irreg;\n",
    "plot(APsa)"
   ]
  },
  {
   "cell_type": "code",
   "execution_count": 41,
   "metadata": {},
   "outputs": [],
   "source": [
    "filt=2;  % distinta rutina de filtrado que nos devuelve cada armónico por separado\n",
    "[trend2,seasonH,cycle2,irreg2]=dhrfilt(y,P,TVP,VAR,12,filt,0);"
   ]
  },
  {
   "cell_type": "markdown",
   "metadata": {},
   "source": [
    "ahora `season` es una matriz cuyas columnas son los armónicos estimados"
   ]
  },
  {
   "cell_type": "code",
   "execution_count": 42,
   "metadata": {},
   "outputs": [
    {
     "data": {
      "image/png": "[encoded data removed]",
      "text/plain": [
       "<IPython.core.display.Image object>"
      ]
     },
     "metadata": {},
     "output_type": "display_data"
    }
   ],
   "source": [
    "plot(seasonH)"
   ]
  },
  {
   "cell_type": "markdown",
   "metadata": {},
   "source": [
    "Ahora vemos la primera diferencia de la tendencia estimada:"
   ]
  },
  {
   "cell_type": "code",
   "execution_count": 43,
   "metadata": {},
   "outputs": [
    {
     "data": {
      "image/png": "[encoded data removed]",
      "text/plain": [
       "<IPython.core.display.Image object>"
      ]
     },
     "metadata": {},
     "output_type": "display_data"
    }
   ],
   "source": [
    "dtrend=diff(trend(:,2)); # diferencia del la tendencia sin el ciclo de 30 meses\n",
    "plot(dtrend)"
   ]
  },
  {
   "cell_type": "code",
   "execution_count": 44,
   "metadata": {},
   "outputs": [
    {
     "name": "stdout",
     "output_type": "stream",
     "text": [
      "AP_COMP_fechas =\r\n",
      "\r\n",
      "obs            AP          APtrend                      APseason    APirreg     APsa     \r\n",
      "1949-01-01     112.00000   121.95674119.015592.94115    -10.29697   0.34023     122.29697\r\n",
      "1949-02-01     118.00000   122.86225120.122702.73955    -5.32788    0.46564     123.32788\r\n",
      "1949-03-01     132.00000   123.63507121.229812.40526    9.86796     -1.50303    122.13204\r\n",
      "1949-04-01     129.00000   124.28489122.339771.94512    2.58886     2.12625     126.41114\r\n",
      "1949-05-01     121.00000   124.91549123.459011.45649    -4.03491    0.11942     125.03491\r\n",
      "1949-06-01     135.00000   125.43218124.580370.85182    8.58939     0.97843     126.41061\r\n",
      "1949-07-01     148.00000   125.91706125.713980.20308    23.26559    -1.18265    124.73441\r\n",
      "1949-08-01     148.00000   126.39183126.86727-0.47544   19.96054    1.64762     128.03946\r\n",
      "1949-09-01     136.00000   126.98464128.05325-1.06861   9.58194     -0.56658    126.41806\r\n",
      "1949-10-01     119.00000   127.65978129.27142-1.61164   -11.41400   2.75422     130.41400\r\n",
      "1949-11-01     104.00000   128.50923130.52917-2.01995   -24.79668   0.28745     128.79668\r\n",
      "1949-12-01     118.00000   129.43616131.82246-2.38631   -11.31521   -0.12095    129.31521\r\n",
      "1950-01-01     115.00000   130.50322133.16517-2.66195   -12.57022   -2.93300    127.57022\r\n",
      "1950-02-01     126.00000   131.75680134.57161-2.81481   -8.27286    2.51606     134.27286\r\n",
      "1950-03-01     141.00000   133.32688136.05616-2.72928   9.02965     -1.35653    131.97035\r\n",
      "1950-04-01     135.00000   135.04306137.61184-2.56878   -1.47592    1.43286     136.47592\r\n",
      "1950-05-01     125.00000   137.01796139.25429-2.23633   -7.66314    -4.35483    132.66314\r\n",
      "1950-06-01     149.00000   139.13874140.98340-1.84467   7.45757     2.40370     141.54243\r\n",
      "1950-07-01     170.00000   141.58670142.81405-1.22735   28.09230    0.32100     141.90770\r\n",
      "1950-08-01     170.00000   144.13171144.72616-0.59444   26.45520    -0.58691    143.54480\r\n",
      "1950-09-01     158.00000   146.75209146.719950.03214    11.80163    -0.55373    146.19837\r\n",
      "1950-10-01     133.00000   149.43504148.795270.63978    -13.82475   -2.61029    146.82475\r\n",
      "1950-11-01     114.00000   152.09805150.948091.14996    -34.36928   -3.72877    148.36928\r\n",
      "1950-12-01     140.00000   154.77863153.182521.59611    -15.77316   0.99453     155.77316\r\n",
      "1951-01-01     145.00000   157.50374155.493352.01039    -13.24968   0.74595     158.24968\r\n",
      "1951-02-01     150.00000   160.11591157.859602.25631    -7.98653    -2.12937    157.98653\r\n",
      "1951-03-01     178.00000   162.59345160.273632.31983    12.88176    2.52479     165.11824\r\n",
      "1951-04-01     163.00000   165.00494162.729822.27512    0.96580     -2.97074    162.03420\r\n",
      "1951-05-01     172.00000   167.20248165.207841.99463    -0.56534    5.36286     172.56534\r\n",
      "1951-06-01     178.00000   169.35176167.708141.64362    12.88107    -4.23283    165.11893\r\n",
      "1951-07-01     199.00000   171.19586170.207120.98875    27.30424    0.49990     171.69576\r\n",
      "1951-08-01     199.00000   173.07364172.726940.34670    26.62807    -0.70171    172.37193\r\n",
      "1951-09-01     184.00000   174.91660175.25190-0.33530   7.19666     1.88674     176.80334\r\n",
      "1951-10-01     162.00000   176.80876177.77595-0.96719   -14.58252   -0.22624    176.58252\r\n",
      "1951-11-01     146.00000   178.68888180.28295-1.59407   -33.59688   0.90799     179.59688\r\n",
      "1951-12-01     166.00000   180.62838182.76948-2.14111   -13.47943   -1.14895    179.47943\r\n",
      "1952-01-01     171.00000   182.63626185.22922-2.59296   -10.87937   -0.75690    181.87937\r\n",
      "1952-02-01     180.00000   184.79188187.66134-2.86945   -9.58143    4.78955     189.58143\r\n",
      "1952-03-01     193.00000   187.12481190.05829-2.93347   11.00476    -5.12957    181.99524\r\n",
      "1952-04-01     181.00000   189.40978192.40739-2.99761   -7.26258    -1.14720    188.26258\r\n",
      "1952-05-01     183.00000   191.99753194.74077-2.74324   -7.44787    -1.54966    190.44787\r\n",
      "1952-06-01     218.00000   194.84615197.04878-2.20263   14.75212    8.40173     203.24788\r\n",
      "1952-07-01     230.00000   197.94327199.31569-1.37242   35.79657    -3.73984    194.20343\r\n",
      "1952-08-01     242.00000   200.89771201.50965-0.61194   36.62842    4.47387     205.37158\r\n",
      "1952-09-01     209.00000   204.00075203.652560.34818    9.84379     -4.84454    199.15621\r\n",
      "1952-10-01     191.00000   206.94745205.722991.22446    -16.83090   0.88346     207.83090\r\n",
      "1952-11-01     172.00000   209.92859207.736552.19204    -37.61833   -0.31026    209.61833\r\n",
      "1952-12-01     194.00000   212.73187209.675143.05672    -19.61946   0.88760     213.61946\r\n",
      "1953-01-01     196.00000   215.31081211.538403.77241    -17.24350   -2.06731    213.24350\r\n",
      "1953-02-01     196.00000   217.59952213.328684.27083    -22.15193   0.55242     218.15193\r\n",
      "1953-03-01     236.00000   219.69362215.057144.63648    13.02863    3.27775     222.97137\r\n",
      "1953-04-01     235.00000   221.50113216.716294.78484    6.19625     7.30263     228.80375\r\n",
      "1953-05-01     229.00000   222.95832218.303374.65495    4.56527     1.47641     224.43473\r\n",
      "1953-06-01     242.00000   223.92914219.823764.10539    20.23068    -2.15982    221.76932\r\n",
      "1953-07-01     264.00000   224.59840221.317363.28104    38.99381    0.40779     225.00619\r\n",
      "1953-08-01     272.00000   225.20665222.820672.38599    41.12573    5.66761     230.87427\r\n",
      "1953-09-01     237.00000   225.81995224.344771.47518    10.46133    0.71872     226.53867\r\n",
      "1953-10-01     211.00000   226.30370225.888430.41526    -16.02278   0.71909     227.02278\r\n",
      "1953-11-01     180.00000   226.80142227.47622-0.67479   -44.47258   -2.32884    224.47258\r\n",
      "1953-12-01     201.00000   227.35730229.12656-1.76926   -24.56989   -1.78741    225.56989\r\n",
      "1954-01-01     204.00000   228.10211230.86488-2.76277   -23.46809   -0.63402    227.46809\r\n",
      "1954-02-01     188.00000   229.10885232.71017-3.60132   -34.59107   -6.51778    222.59107\r\n",
      "1954-03-01     235.00000   230.40050234.67917-4.27867   2.87512     1.72437     232.12488\r\n",
      "1954-04-01     227.00000   232.21367236.79432-4.58066   -2.01965    -3.19401    229.01965\r\n",
      "1954-05-01     234.00000   234.31344239.04088-4.72745   -1.79611    1.48267     235.79611\r\n",
      "1954-06-01     264.00000   236.85043241.43344-4.58301   28.43132    -1.28175    235.56868\r\n",
      "1954-07-01     302.00000   239.67438243.96391-4.28953   58.58379    3.74182     243.41621\r\n",
      "1954-08-01     293.00000   242.87375246.64215-3.76839   53.39599    -3.26974    239.60401\r\n",
      "1954-09-01     259.00000   246.29326249.46194-3.16867   13.33689    -0.63015    245.66311\r\n",
      "1954-10-01     229.00000   250.06262252.43615-2.37353   -19.23541   -1.82721    248.23541\r\n",
      "1954-11-01     203.00000   254.05426255.55295-1.49870   -51.44119   0.38694     254.44119\r\n",
      "1954-12-01     229.00000   258.22709258.80592-0.57883   -26.12662   -3.10047    255.12662\r\n",
      "1955-01-01     242.00000   262.44359262.183850.25975    -22.71962   2.27603     264.71962\r\n",
      "1955-02-01     233.00000   266.79907265.688771.11030    -33.46097   -0.33811    266.46097\r\n",
      "1955-03-01     267.00000   271.08474269.299291.78546    -0.18916    -3.89558    267.18916\r\n",
      "1955-04-01     269.00000   275.30760273.015002.29260    -6.86550    0.55790     275.86550\r\n",
      "1955-05-01     270.00000   279.56338276.834422.72896    -7.29382    -2.26956    277.29382\r\n",
      "1955-06-01     315.00000   283.68866280.733722.95494    31.70248    -0.39114    283.29752\r\n",
      "1955-07-01     364.00000   287.75296284.704443.04851    71.29668    4.95036     292.70332\r\n",
      "1955-08-01     347.00000   291.72665288.723253.00340    59.92084    -4.64749    287.07916\r\n",
      "1955-09-01     312.00000   295.41351292.761312.65220    16.04093    0.54556     295.95907\r\n",
      "1955-10-01     274.00000   299.09010296.821122.26898    -23.76709   -1.32301    297.76709\r\n",
      "1955-11-01     237.00000   302.57909300.866141.71295    -60.60827   -4.97081    297.60827\r\n",
      "1955-12-01     278.00000   305.89794304.880941.01700    -30.02968   2.13173     308.02968\r\n",
      "1956-01-01     284.00000   309.21263308.855340.35730    -24.33234   -0.88030    308.33234\r\n",
      "1956-02-01     277.00000   312.35468312.75583-0.40115   -37.09703   1.74235     314.09703\r\n",
      "1956-03-01     317.00000   315.46595316.57631-1.11035   1.16501     0.36904     315.83499\r\n",
      "1956-04-01     313.00000   318.49666320.29920-1.80254   -7.23430    1.73764     320.23430\r\n",
      "1956-05-01     318.00000   321.55889323.92255-2.36366   -4.60528    1.04640     322.60528\r\n",
      "1956-06-01     374.00000   324.66774327.43802-2.77027   43.54032    5.79193     330.45968\r\n",
      "1956-07-01     413.00000   327.87858330.84133-2.96275   84.00444    1.11698     328.99556\r\n",
      "1956-08-01     405.00000   331.09853334.12451-3.02598   72.09340    1.80807     332.90660\r\n",
      "1956-09-01     355.00000   334.47589337.30132-2.82543   18.22484    2.29927     336.77516\r\n",
      "1956-10-01     306.00000   338.01910340.37130-2.35221   -30.12190   -1.89719    336.12190\r\n",
      "1956-11-01     271.00000   341.62009343.32920-1.70911   -69.80764   -0.81244    340.80764\r\n",
      "1956-12-01     306.00000   345.32945346.18367-0.85422   -39.14536   -0.18409    345.14536\r\n",
      "1957-01-01     315.00000   349.07827348.933370.14490    -32.43276   -1.64551    347.43276\r\n",
      "1957-02-01     301.00000   352.77188351.578751.19312    -49.72686   -2.04502    350.72686\r\n",
      "1957-03-01     356.00000   356.42175354.128082.29367    -3.39347    2.97172     359.39347\r\n",
      "1957-04-01     348.00000   359.97060356.579653.39095    -12.04243   0.07183     360.04243\r\n",
      "1957-05-01     355.00000   363.19823358.925194.27304    -6.76521    -1.43302    361.76521\r\n",
      "1957-06-01     422.00000   366.12708361.180994.94610    49.87347    5.99945     372.12653\r\n",
      "1957-07-01     465.00000   368.80513363.360215.44492    96.17774    0.01713     368.82226\r\n",
      "1957-08-01     467.00000   371.00594365.461545.54440    92.13182    3.86224     374.86818\r\n",
      "1957-09-01     404.00000   372.94404367.516985.42706    26.41368    4.64228     377.58632\r\n",
      "1957-10-01     347.00000   374.56593369.530825.03511    -26.14583   -1.42010    373.14583\r\n",
      "1957-11-01     305.00000   375.75592371.509954.24597    -70.51639   -0.23953    375.51639\r\n",
      "1957-12-01     336.00000   376.71790373.486493.23141    -42.42805   1.71015     378.42805\r\n",
      "1958-01-01     340.00000   377.48851375.474992.01351    -34.82489   -2.66362    374.82489\r\n",
      "1958-02-01     318.00000   378.04507377.491010.55406    -60.21138   0.16631     378.21138\r\n",
      "1958-03-01     362.00000   378.64113379.56916-0.92803   -14.28842   -2.35271    376.28842\r\n",
      "1958-04-01     348.00000   379.25910381.72242-2.46332   -27.60585   -3.65325    375.60585\r\n",
      "1958-05-01     363.00000   380.07859383.97922-3.90063   -14.69071   -2.38788    377.69071\r\n",
      "1958-06-01     435.00000   381.26964386.35767-5.08803   49.53528    4.19507     385.46472\r\n",
      "1958-07-01     491.00000   382.90020388.85573-5.95553   111.02394   -2.92414    379.97606\r\n",
      "1958-08-01     505.00000   384.76469391.45547-6.69078   114.19818   6.03713     390.80182\r\n",
      "1958-09-01     404.00000   387.10772394.17243-7.06471   27.41302    -10.52075   376.58698\r\n",
      "1958-10-01     359.00000   389.64926396.99160-7.34234   -30.65381   0.00455     389.65381\r\n",
      "1958-11-01     310.00000   392.83810399.94815-7.11006   -80.37068   -2.46741    390.37068\r\n",
      "1958-12-01     337.00000   396.38585403.01525-6.62940   -54.62052   -4.76534    391.62052\r\n",
      "1959-01-01     360.00000   400.31942406.19743-5.87801   -40.59466   0.27524     400.59466\r\n",
      "1959-02-01     342.00000   404.74574409.49682-4.75108   -63.45379   0.70805     405.45379\r\n",
      "1959-03-01     406.00000   409.49885412.88836-3.38951   -10.00568   6.50682     416.00568\r\n",
      "1959-04-01     396.00000   414.47288416.35182-1.87894   -14.47246   -4.00043    410.47246\r\n",
      "1959-05-01     420.00000   419.33650419.86711-0.53061   -2.74479    3.40829     422.74479\r\n",
      "1959-06-01     472.00000   424.39712423.464850.93227    51.29825    -3.69537    420.70175\r\n",
      "1959-07-01     548.00000   429.42310427.132612.29049    117.51574   1.06116     430.48426\r\n",
      "1959-08-01     559.00000   434.55433430.882693.67164    118.06478   6.38089     440.93522\r\n",
      "1959-09-01     463.00000   439.68756434.697514.99006    24.92928    -1.61685    438.07072\r\n",
      "1959-10-01     407.00000   444.50526438.552785.95248    -34.50268   -3.00258    441.50268\r\n",
      "1959-11-01     362.00000   449.16168442.464926.69677    -86.41406   -0.74762    448.41406\r\n",
      "1959-12-01     405.00000   453.69119446.430397.26079    -52.30497   3.61378     457.30497\r\n",
      "1960-01-01     417.00000   457.97555450.428687.54687    -38.34701   -2.62855    455.34701\r\n",
      "1960-02-01     391.00000   461.83010454.443537.38657    -71.48360   0.65350     462.48360\r\n",
      "1960-03-01     419.00000   465.41422458.488636.92559    -32.84204   -13.57218   451.84204\r\n",
      "1960-04-01     461.00000   468.64590462.563476.08242    -20.60112   12.95522    481.60112\r\n",
      "1960-05-01     472.00000   472.07292466.689965.38296    2.47414     -2.54706    469.52586\r\n",
      "1960-06-01     535.00000   474.95259470.796884.15571    57.23318    2.81423     477.76682\r\n",
      "1960-07-01     622.00000   477.76767474.915622.85205    139.91824   4.31409     482.08176\r\n",
      "1960-08-01     606.00000   480.41771479.025581.39213    126.13836   -0.55607    479.86164\r\n",
      "1960-09-01     508.00000   482.88558483.12240-0.23682   28.76026    -3.64584    479.23974\r\n",
      "1960-10-01     461.00000   485.37155487.22072-1.84918   -31.24449   6.87294     492.24449\r\n",
      "1960-11-01     390.00000   488.05222491.32315-3.27092   -91.80824   -6.24398    481.80824\r\n",
      "1960-12-01     432.00000   490.66526495.40926-4.74400   -60.39848   1.73322     492.39848\r\n",
      "\r\n"
     ]
    }
   ],
   "source": [
    "mkdir estimacionesAP\n",
    "\n",
    "format bank\n",
    "\n",
    "function Y = colData (cabecera,data)\n",
    "    datos = num2str(data,\"%5.5f\");\n",
    "    Y = cat(1,strjoin ({cabecera,blanks(size(datos,2)-size(cabecera,2)-1)}), datos);\n",
    "endfunction\n",
    "\n",
    "sep=repmat(' ',[size(AP,1),3]);\n",
    "\n",
    "save(\"-ascii\", \"estimacionesAP/AP.dat\",        \"airpas\")\n",
    "save(\"-ascii\", \"estimacionesAP/APtrend.dat\",   \"trend\")\n",
    "save(\"-ascii\", \"estimacionesAP/APseason.dat\",  \"season\")\n",
    "save(\"-ascii\", \"estimacionesAP/APseasonH.dat\", \"seasonH\")\n",
    "save(\"-ascii\", \"estimacionesAP/APirreg.dat\",   \"irreg\")\n",
    "save(\"-ascii\", \"estimacionesAP/APsa.dat\",      \"APsa\")\n",
    "\n",
    "AP       = colData(\"AP\",      airpas);\n",
    "APtrend  = colData(\"APtrend\",  trend);\n",
    "APseason = colData(\"APseason\",season);\n",
    "APirreg  = colData(\"APirreg\",  irreg);\n",
    "APsa     = colData(\"APsa\",      APsa);\n",
    "\n",
    "AP_COMP_fechas=[timefmt4(12,1949,1,size(y,1)),sep, AP,sep, APtrend,sep, APseason,sep, APirreg,sep APsa];\n",
    "%save(\"-ascii\", \"estimacionesAP/AP_COMP_fechas.dat\",      \"AP_COMP_fechas\")\n",
    "\n",
    "AP_COMP_fechas"
   ]
  },
  {
   "cell_type": "code",
   "execution_count": null,
   "metadata": {},
   "outputs": [],
   "source": []
  },
  {
   "cell_type": "code",
   "execution_count": null,
   "metadata": {},
   "outputs": [],
   "source": []
  }
 ],
 "metadata": {
  "kernelspec": {
   "display_name": "Octave",
   "language": "octave",
   "name": "octave"
  },
  "language_info": {
   "file_extension": ".m",
   "help_links": [
    {
     "text": "GNU Octave",
     "url": "https://www.gnu.org/software/octave/support.html"
    },
    {
     "text": "Octave Kernel",
     "url": "https://github.com/Calysto/octave_kernel"
    },
    {
     "text": "MetaKernel Magics",
     "url": "https://metakernel.readthedocs.io/en/latest/source/README.html"
    }
   ],
   "mimetype": "text/x-octave",
   "name": "octave",
   "version": "6.1.1~hg.2021.01.26"
  }
 },
 "nbformat": 4,
 "nbformat_minor": 4
}

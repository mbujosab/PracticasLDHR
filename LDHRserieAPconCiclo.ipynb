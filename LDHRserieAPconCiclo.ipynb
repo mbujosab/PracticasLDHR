{
 "cells": [
  {
   "cell_type": "markdown",
   "metadata": {},
   "source": [
    "# Linear Dynamic Harmonic Regression (LDHR)"
   ]
  },
  {
   "cell_type": "markdown",
   "metadata": {},
   "source": [
    "__Parece que los notebooks no están muy perfecionados (o mi instalación tiene problemas). Algunos comandos fallan la primera vez que se ejecutan.__"
   ]
  },
  {
   "cell_type": "markdown",
   "metadata": {},
   "source": [
    "Para el filtrado (filtro de Kalman y suavizado de intervalo fijo) usaremos la toolbok [E4](https://www.ucm.es/e-4/), para ello es necesario ejecutar lo siguiente:"
   ]
  },
  {
   "cell_type": "code",
   "execution_count": 1,
   "metadata": {},
   "outputs": [
    {
     "name": "stdout",
     "output_type": "stream",
     "text": [
      "\r\n",
      "            XXXXXX 4 4      XXXXX  XX     XX  XX  XXXXXX (c)\r\n",
      "           XX      444     XX  XX XX     XX  XX  XX\r\n",
      "          XXXX       4    XXXXX  XX     XX  XX  XXXXXX\r\n",
      "         XX              XX     XX     XX  XX      XX\r\n",
      "        XXXXXX          XX     XXXXXX XXXXXX  XXXXXX\r\n",
      "\r\n",
      "    Toolbox for State Space Estimation of Econometric Models\r\n",
      " \r\n",
      "*********************** Options set by user ********************\r\n",
      "Filter. . . . . . . . . . . . . : KALMAN\r\n",
      "Scaled B and M matrices . . . . : NO\r\n",
      "Initial state vector. . . . . . : AUTOMATIC SELECTION\r\n",
      "Initial covariance of state v.  : IDEJONG\r\n",
      "Variance or Cholesky factor?  . : VARIANCE\r\n",
      "Optimization algorithm. . . . . : BFGS\r\n",
      "Maximum step length . . . . . . : 0.100000\r\n",
      "Stop tolerance. . . . . . . . . : 0.000010\r\n",
      "Max. number of iterations . . . :       75\r\n",
      "Verbose iterations. . . . . . . : YES\r\n",
      "****************************************************************\r\n",
      " \r\n",
      " \r\n"
     ]
    }
   ],
   "source": [
    "clear\n",
    "e4init\n",
    "figure(1)  # en mi PC me da error al generar las figuras png embedidas en el notebook si no hago esto."
   ]
  },
  {
   "cell_type": "markdown",
   "metadata": {},
   "source": [
    "Tambien es necesario cargar el toolbox de control"
   ]
  },
  {
   "cell_type": "code",
   "execution_count": 2,
   "metadata": {},
   "outputs": [],
   "source": [
    "pkg load control"
   ]
  },
  {
   "cell_type": "markdown",
   "metadata": {},
   "source": [
    "Cargamos los datos de la serie _\"lineas aéreas\"_"
   ]
  },
  {
   "cell_type": "code",
   "execution_count": 3,
   "metadata": {},
   "outputs": [],
   "source": [
    "load airpas"
   ]
  },
  {
   "cell_type": "markdown",
   "metadata": {},
   "source": [
    "Por comodidad vamos a generar la variable 'y' con los mismos datos (es más cómodo escribir `y` que escribir `airpas`)"
   ]
  },
  {
   "cell_type": "code",
   "execution_count": 4,
   "metadata": {},
   "outputs": [],
   "source": [
    "y = airpas;"
   ]
  },
  {
   "cell_type": "markdown",
   "metadata": {},
   "source": [
    "y ahora vamos a representar los datos de la serie de líneas aéreas"
   ]
  },
  {
   "cell_type": "code",
   "execution_count": 5,
   "metadata": {},
   "outputs": [
    {
     "data": {
      "image/png": "[encoded data removed]",
      "text/plain": [
       "<IPython.core.display.Image object>"
      ]
     },
     "metadata": {},
     "output_type": "display_data"
    }
   ],
   "source": [
    "%plot --format png\n",
    "figure(1)\n",
    "grid on\n",
    "hold on\n",
    "title('Pasajeros de lineas aereas') % fallan los acentos\n",
    "plot(y, 'r')"
   ]
  },
  {
   "cell_type": "markdown",
   "metadata": {},
   "source": [
    "En `PaP` guadaremos un vector con los periodos correspondientes a la estacionalidad para datos mensuales. En esta ocasión vamos a experimentar un poco... el Profesor P.C. Young en su artículo (Young, P.C., Pedregal, D.J. and Tych, W., (1999), Dynamic harmonic regression, Journal of Forecasting, 18, 6, 369-394. [abstract](http://www.es.lancs.ac.uk/cres/papers/abstracts/young99d.html) [full text PDF](http://www.es.lancs.ac.uk/cres/papers/available/dhr.pdf)) propone incluir unos componentes cíclicos de 51.1, 25.5 y 17 meses (y lo hace mediante un sofisticado, y quizá un tanto artifical, contatenado de AR espectros). \n",
    "\n",
    "Aquí lo vamos a simplificar sencillamente añadiendo un componente de periodo 24 (es decir, aceptando que quizá hay un ciclo bianual). De este modo, las oscilaciones de periodo 48 o más quedarán en la tendencia y (si el modelo funciona) obtendremos un ciclo de 24 meses; además del componente estacional habitual."
   ]
  },
  {
   "cell_type": "code",
   "execution_count": 6,
   "metadata": {},
   "outputs": [
    {
     "name": "stdout",
     "output_type": "stream",
     "text": [
      "PaP =\r\n",
      "\r\n",
      "       Inf   24.0000   12.0000    6.0000    4.0000    3.0000    2.4000    2.0000\r\n",
      "\r\n"
     ]
    }
   ],
   "source": [
    "PaP=[Inf, 24, 12./(1:6)]"
   ]
  },
  {
   "cell_type": "markdown",
   "metadata": {},
   "source": [
    "Además vamos a emplear el modelo por defecto (IRW para la tendencia y RW para el resto de componentes). \n",
    "\n",
    "Si la matriz TVPaP no tiene columnas suficientes, `autodhr` replica la última columna hasta completar una matriz con columnas suficientse para todos los componentes DHR indicados en `PaP`."
   ]
  },
  {
   "cell_type": "code",
   "execution_count": 7,
   "metadata": {},
   "outputs": [
    {
     "name": "stdout",
     "output_type": "stream",
     "text": [
      "TVPaP =\r\n",
      "\r\n",
      "   1   1\r\n",
      "   1   0\r\n",
      "\r\n"
     ]
    }
   ],
   "source": [
    "TVPaP=[1 1 ;1 0]"
   ]
  },
  {
   "cell_type": "markdown",
   "metadata": {},
   "source": [
    "Por último, este modelo está un poco forzado, así que por defecto `autodhr` no lo identificaría de manera automática, así que añadiendo el parámetro `1` tras el argumento `TVPaP` indicamos que fuerze la estimación de dicho modelo."
   ]
  },
  {
   "cell_type": "code",
   "execution_count": 8,
   "metadata": {},
   "outputs": [
    {
     "name": "stdout",
     "output_type": "stream",
     "text": [
      "VAR =\r\n",
      "\r\n",
      " Columns 1 through 6:\r\n",
      "\r\n",
      "   2.1475e+01   1.2787e-01   1.3654e+00   1.1937e+01   1.5570e+00   3.9616e-01\r\n",
      "\r\n",
      " Columns 7 through 9:\r\n",
      "\r\n",
      "   2.0408e-01   1.9553e-01   6.0300e-02\r\n",
      "\r\n",
      "P =\r\n",
      "\r\n",
      "       Inf   24.0000   12.0000    6.0000    4.0000    3.0000    2.4000    2.0000\r\n",
      "\r\n",
      "TVP =\r\n",
      "\r\n",
      "   1   1   1   1   1   1   1   1\r\n",
      "   1   0   0   0   0   0   0   0\r\n",
      "\r\n",
      "oar = 36\r\n"
     ]
    }
   ],
   "source": [
    "[VAR,P,TVP,oar]=autodhr(y,12,[],[],PaP,TVPaP,1) "
   ]
  },
  {
   "cell_type": "markdown",
   "metadata": {},
   "source": [
    "Podemos calcular los ratios de varianzas (NVR) del siguiente modo:"
   ]
  },
  {
   "cell_type": "code",
   "execution_count": 9,
   "metadata": {},
   "outputs": [
    {
     "name": "stdout",
     "output_type": "stream",
     "text": [
      "NVR =\r\n",
      "\r\n",
      " Columns 1 through 6:\r\n",
      "\r\n",
      "   5.9543e-03   6.3581e-02   5.5584e-01   7.2504e-02   1.8447e-02   9.5029e-03\r\n",
      "\r\n",
      " Columns 7 and 8:\r\n",
      "\r\n",
      "   9.1047e-03   2.8079e-03\r\n",
      "\r\n"
     ]
    }
   ],
   "source": [
    "NVR=VAR(2:end)./VAR(1)"
   ]
  },
  {
   "cell_type": "markdown",
   "metadata": {},
   "source": [
    "Vamos a filtrar los componentes con el modelo que hemos forzado a estimar a `autodhr`. Usaré es suvizado de intervalo fijo `filt=2`"
   ]
  },
  {
   "cell_type": "code",
   "execution_count": 10,
   "metadata": {},
   "outputs": [],
   "source": [
    "filt=2;\n",
    "[trend,season,cycle,irreg]=dhrfilt(y,P,TVP,VAR,12,filt,0);"
   ]
  },
  {
   "cell_type": "markdown",
   "metadata": {},
   "source": [
    "Visualicemos los componentes"
   ]
  },
  {
   "cell_type": "code",
   "execution_count": 11,
   "metadata": {},
   "outputs": [
    {
     "data": {
      "image/png": "[encoded data removed]",
      "text/plain": [
       "<IPython.core.display.Image object>"
      ]
     },
     "metadata": {},
     "output_type": "display_data"
    }
   ],
   "source": [
    "grid on\n",
    "hold on\n",
    "title('Pasajeros de lineas aereas y tendencia')\n",
    "plot([y,trend(:,1)])"
   ]
  },
  {
   "cell_type": "code",
   "execution_count": 12,
   "metadata": {},
   "outputs": [
    {
     "data": {
      "image/png": "[encoded data removed]",
      "text/plain": [
       "<IPython.core.display.Image object>"
      ]
     },
     "metadata": {},
     "output_type": "display_data"
    }
   ],
   "source": [
    "grid on\n",
    "hold on\n",
    "title('Pasajeros de lineas aereas y tendencia + ciclo')\n",
    "plot([y,trend(:,1)])"
   ]
  },
  {
   "cell_type": "code",
   "execution_count": 13,
   "metadata": {},
   "outputs": [
    {
     "data": {
      "image/png": "[encoded data removed]",
      "text/plain": [
       "<IPython.core.display.Image object>"
      ]
     },
     "metadata": {},
     "output_type": "display_data"
    }
   ],
   "source": [
    "plot([season(:,1)])"
   ]
  },
  {
   "cell_type": "markdown",
   "metadata": {},
   "source": [
    "no hemos indicado componente para un ciclo (frecuencia intermedia entre la tendencia (0) y la frecuencia del primer armónico estacional)"
   ]
  },
  {
   "cell_type": "code",
   "execution_count": 14,
   "metadata": {},
   "outputs": [
    {
     "data": {
      "image/png": "[encoded data removed]",
      "text/plain": [
       "<IPython.core.display.Image object>"
      ]
     },
     "metadata": {},
     "output_type": "display_data"
    }
   ],
   "source": [
    "plot(cycle) # de periodo de arrededor de 24 meses"
   ]
  },
  {
   "cell_type": "code",
   "execution_count": 15,
   "metadata": {},
   "outputs": [
    {
     "data": {
      "image/png": "[encoded data removed]",
      "text/plain": [
       "<IPython.core.display.Image object>"
      ]
     },
     "metadata": {},
     "output_type": "display_data"
    }
   ],
   "source": [
    "plot(irreg)"
   ]
  },
  {
   "cell_type": "markdown",
   "metadata": {},
   "source": [
    "Pintemos la serie desestacionalizada `(trend + cycle + irreg`)"
   ]
  },
  {
   "cell_type": "code",
   "execution_count": 16,
   "metadata": {},
   "outputs": [
    {
     "data": {
      "image/png": "[encoded data removed]",
      "text/plain": [
       "<IPython.core.display.Image object>"
      ]
     },
     "metadata": {},
     "output_type": "display_data"
    }
   ],
   "source": [
    "APsa = trend(:,1)+cycle+irreg;\n",
    "plot(APsa)"
   ]
  },
  {
   "cell_type": "markdown",
   "metadata": {},
   "source": [
    "Veamos la primera diferencia de la tendencia estimada (usted debería comparar este gráfico con el último gráfico del [notebook](https://hub.gke2.mybinder.org/user/mbujosab-practicasldhr-5ttb8w35/notebooks/LDHRserieAP.ipynb) que no fuerza la existencia de un ciclo para la serie de líneas aéreas):"
   ]
  },
  {
   "cell_type": "code",
   "execution_count": 17,
   "metadata": {},
   "outputs": [
    {
     "data": {
      "image/png": "[encoded data removed]",
      "text/plain": [
       "<IPython.core.display.Image object>"
      ]
     },
     "metadata": {},
     "output_type": "display_data"
    }
   ],
   "source": [
    "dtrend=diff(trend(:,1)); # diferencia del la tendencia sin el ciclo de alrededor de 24 meses\n",
    "plot(dtrend)"
   ]
  },
  {
   "cell_type": "markdown",
   "metadata": {},
   "source": [
    "Todo parece haber funcionado correctamente, pero esto es un tanto \"experimental\" y es posible que si fuerza el comportamiento de `autodhr`obtenga unos resultados demasiado artificiales, o sencillamente que el método de estimación falle."
   ]
  },
  {
   "cell_type": "code",
   "execution_count": null,
   "metadata": {},
   "outputs": [],
   "source": []
  }
 ],
 "metadata": {
  "kernelspec": {
   "display_name": "Octave",
   "language": "octave",
   "name": "octave"
  },
  "language_info": {
   "file_extension": ".m",
   "help_links": [
    {
     "text": "GNU Octave",
     "url": "https://www.gnu.org/software/octave/support.html"
    },
    {
     "text": "Octave Kernel",
     "url": "https://github.com/Calysto/octave_kernel"
    },
    {
     "text": "MetaKernel Magics",
     "url": "https://metakernel.readthedocs.io/en/latest/source/README.html"
    }
   ],
   "mimetype": "text/x-octave",
   "name": "octave",
   "version": "6.2.0"
  }
 },
 "nbformat": 4,
 "nbformat_minor": 4
}

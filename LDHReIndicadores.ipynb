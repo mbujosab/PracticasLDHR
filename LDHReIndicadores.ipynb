{
 "cells": [
  {
   "cell_type": "raw",
   "metadata": {},
   "source": [
    "# Linear Dynamic Harmonic Regression (LDHR)"
   ]
  },
  {
   "cell_type": "markdown",
   "metadata": {},
   "source": [
    "__Parece que los notebooks no están muy perfecionados (o mi instalación tiene problemas). Algunos comandos fallan la primera vez que se ejecutan.__"
   ]
  },
  {
   "cell_type": "markdown",
   "metadata": {},
   "source": [
    "Para el filtrado (filtro de Kalman y suavizado de intervalo fijo) usaremos la toolbok [E4](https://www.ucm.es/e-4/), para ello es necesario ejecutar lo siguiente:"
   ]
  },
  {
   "cell_type": "code",
   "execution_count": 32,
   "metadata": {},
   "outputs": [
    {
     "name": "stdout",
     "output_type": "stream",
     "text": [
      "\r\n",
      "            XXXXXX 4 4      XXXXX  XX     XX  XX  XXXXXX (c)\r\n",
      "           XX      444     XX  XX XX     XX  XX  XX\r\n",
      "          XXXX       4    XXXXX  XX     XX  XX  XXXXXX\r\n",
      "         XX              XX     XX     XX  XX      XX\r\n",
      "        XXXXXX          XX     XXXXXX XXXXXX  XXXXXX\r\n",
      "\r\n",
      "    Toolbox for State Space Estimation of Econometric Models\r\n",
      " \r\n",
      "*********************** Options set by user ********************\r\n",
      "Filter. . . . . . . . . . . . . : KALMAN\r\n",
      "Scaled B and M matrices . . . . : NO\r\n",
      "Initial state vector. . . . . . : AUTOMATIC SELECTION\r\n",
      "Initial covariance of state v.  : IDEJONG\r\n",
      "Variance or Cholesky factor?  . : VARIANCE\r\n",
      "Optimization algorithm. . . . . : BFGS\r\n",
      "Maximum step length . . . . . . : 0.100000\r\n",
      "Stop tolerance. . . . . . . . . : 0.000010\r\n",
      "Max. number of iterations . . . :       75\r\n",
      "Verbose iterations. . . . . . . : YES\r\n",
      "****************************************************************\r\n",
      " \r\n",
      " \r\n"
     ]
    }
   ],
   "source": [
    "e4init"
   ]
  },
  {
   "cell_type": "markdown",
   "metadata": {},
   "source": [
    "Tambien es necesario cargar el toolbox de control"
   ]
  },
  {
   "cell_type": "code",
   "execution_count": 33,
   "metadata": {},
   "outputs": [],
   "source": [
    "pkg load control"
   ]
  },
  {
   "cell_type": "markdown",
   "metadata": {},
   "source": [
    "Cargamos los datos de la serie _\"lineas aéreas\"_"
   ]
  },
  {
   "cell_type": "code",
   "execution_count": 34,
   "metadata": {},
   "outputs": [],
   "source": [
    "load airpas"
   ]
  },
  {
   "cell_type": "markdown",
   "metadata": {},
   "source": [
    "Por comodidad vamos a generar la variable 'y' con los mismos datos (es más cómodo escribir `y` que escribir `airpas`)"
   ]
  },
  {
   "cell_type": "code",
   "execution_count": 35,
   "metadata": {},
   "outputs": [],
   "source": [
    "y = airpas;"
   ]
  },
  {
   "cell_type": "markdown",
   "metadata": {},
   "source": [
    "y ahora vamos a representar los datos de la serie de líneas aéreas"
   ]
  },
  {
   "cell_type": "code",
   "execution_count": 36,
   "metadata": {},
   "outputs": [
    {
     "data": {
      "image/png": "[encoded data removed]",
      "text/plain": [
       "<IPython.core.display.Image object>"
      ]
     },
     "metadata": {},
     "output_type": "display_data"
    }
   ],
   "source": [
    "%plot --format png\n",
    "figure(1)\n",
    "grid on\n",
    "hold on\n",
    "title('Pasajeros de lineas aereas') % fallan los acentos\n",
    "plot(airpas, 'r')"
   ]
  },
  {
   "cell_type": "code",
   "execution_count": 37,
   "metadata": {},
   "outputs": [],
   "source": [
    "#close(1) % por si generamos la figura en una ventana y la queremos cerrar después"
   ]
  },
  {
   "cell_type": "markdown",
   "metadata": {},
   "source": [
    "En `PaP` guadaremos un vector con los periodos correspondientes a la estacionalidad para datos mensuales:"
   ]
  },
  {
   "cell_type": "code",
   "execution_count": 38,
   "metadata": {},
   "outputs": [
    {
     "name": "stdout",
     "output_type": "stream",
     "text": [
      "PaP =\r\n",
      "\r\n",
      "     Inf   12.00    6.00    4.00    3.00    2.40    2.00\r\n",
      "\r\n"
     ]
    }
   ],
   "source": [
    "PaP=12./(0:6)"
   ]
  },
  {
   "cell_type": "markdown",
   "metadata": {},
   "source": [
    "esta serie es un tanto especial, pues el pico espectral correspondiente al periodo 2 es muy ténue (o inexistente), por ello vamos a poner dos ceros para ese componente DHR (para que no trate de identificarlo). Si no lo hacemos así, identificará un modelo para la tendencia más volatil al tratar de ajustar un componente a las oscilaciones de periodo 2 (con la serie en logaritmos si se identifica un modelo IRW para la tendencia incluso si incormporamos el componente de periodo 2)."
   ]
  },
  {
   "cell_type": "code",
   "execution_count": 39,
   "metadata": {},
   "outputs": [
    {
     "name": "stdout",
     "output_type": "stream",
     "text": [
      "TVPaP =\r\n",
      "\r\n",
      "   1.00   1.00   1.00   1.00   1.00   1.00      0\r\n",
      "   1.00      0      0      0      0      0      0\r\n",
      "\r\n"
     ]
    }
   ],
   "source": [
    "TVPaP=[1 1 1 1 1 1 0;1 0 0 0 0 0 0]"
   ]
  },
  {
   "cell_type": "code",
   "execution_count": 40,
   "metadata": {},
   "outputs": [
    {
     "name": "stdout",
     "output_type": "stream",
     "text": [
      "VAR =\r\n",
      "\r\n",
      "   23.52    0.27    6.64    1.77    0.46    0.49    0.31       0\r\n",
      "\r\n",
      "P =\r\n",
      "\r\n",
      "     Inf   12.00    6.00    4.00    3.00    2.40       0\r\n",
      "\r\n",
      "TVP =\r\n",
      "\r\n",
      "   1.00   1.00   1.00   1.00   1.00   1.00      0\r\n",
      "   1.00      0      0      0      0      0      0\r\n",
      "\r\n",
      "oar = 31.00\r\n"
     ]
    }
   ],
   "source": [
    "[VAR,P,TVP,oar]=autodhr(y,12,[],[],PaP,TVPaP) % la primera vez que lo ejecutemos nos dará unos warnings (luego no)"
   ]
  },
  {
   "cell_type": "markdown",
   "metadata": {},
   "source": [
    "Podemos calcular los ratios de varianzas (NVR) del siguiente modo:"
   ]
  },
  {
   "cell_type": "code",
   "execution_count": 41,
   "metadata": {},
   "outputs": [
    {
     "name": "stdout",
     "output_type": "stream",
     "text": [
      "NVR =\r\n",
      "\r\n",
      "   0.01   0.28   0.08   0.02   0.02   0.01      0\r\n",
      "\r\n"
     ]
    }
   ],
   "source": [
    "NVR=VAR(2:8)./VAR(1)"
   ]
  },
  {
   "cell_type": "markdown",
   "metadata": {},
   "source": [
    "Vamos a filtrar los componentes con el modelo identificado"
   ]
  },
  {
   "cell_type": "code",
   "execution_count": 42,
   "metadata": {},
   "outputs": [],
   "source": [
    "filt=0;\n",
    "[trend,season,cycle,irreg]=dhrfilt(y,P,TVP,VAR,12,filt,0);"
   ]
  },
  {
   "cell_type": "markdown",
   "metadata": {},
   "source": [
    "Visualicemos los componentes"
   ]
  },
  {
   "cell_type": "code",
   "execution_count": 43,
   "metadata": {},
   "outputs": [
    {
     "data": {
      "image/png": "[encoded data removed]",
      "text/plain": [
       "<IPython.core.display.Image object>"
      ]
     },
     "metadata": {},
     "output_type": "display_data"
    }
   ],
   "source": [
    "plot([y,trend])"
   ]
  },
  {
   "cell_type": "code",
   "execution_count": 44,
   "metadata": {},
   "outputs": [
    {
     "data": {
      "image/png": "[encoded data removed]",
      "text/plain": [
       "<IPython.core.display.Image object>"
      ]
     },
     "metadata": {},
     "output_type": "display_data"
    }
   ],
   "source": [
    "plot([season])"
   ]
  },
  {
   "cell_type": "markdown",
   "metadata": {},
   "source": [
    "no hemos indicado componente para un ciclo (frecuencia intermedia entre la tendencia (0) y la frecuencia del primer armónico estacional)"
   ]
  },
  {
   "cell_type": "code",
   "execution_count": 45,
   "metadata": {},
   "outputs": [
    {
     "data": {
      "image/png": "[encoded data removed]",
      "text/plain": [
       "<IPython.core.display.Image object>"
      ]
     },
     "metadata": {},
     "output_type": "display_data"
    }
   ],
   "source": [
    "plot(cycle) %% constante cero"
   ]
  },
  {
   "cell_type": "code",
   "execution_count": 46,
   "metadata": {},
   "outputs": [
    {
     "data": {
      "image/png": "[encoded data removed]",
      "text/plain": [
       "<IPython.core.display.Image object>"
      ]
     },
     "metadata": {},
     "output_type": "display_data"
    }
   ],
   "source": [
    "plot(irreg)"
   ]
  },
  {
   "cell_type": "markdown",
   "metadata": {},
   "source": [
    "Pintemos la serie desestacionalizada `(trend + irreg`)"
   ]
  },
  {
   "cell_type": "code",
   "execution_count": 47,
   "metadata": {},
   "outputs": [
    {
     "data": {
      "image/png": "[encoded data removed]",
      "text/plain": [
       "<IPython.core.display.Image object>"
      ]
     },
     "metadata": {},
     "output_type": "display_data"
    }
   ],
   "source": [
    "APsa = trend+irreg;\n",
    "plot(APsa)"
   ]
  },
  {
   "cell_type": "code",
   "execution_count": 48,
   "metadata": {},
   "outputs": [],
   "source": [
    "filt=2;  % distinta rutina de filtrado que nos devuelve cada armónico por separado\n",
    "[trend2,seasonH,cycle2,irreg2]=dhrfilt(y,P,TVP,VAR,12,filt,0);"
   ]
  },
  {
   "cell_type": "markdown",
   "metadata": {},
   "source": [
    "ahora `season` es una matriz cuyas columnas son los armónicos estimados"
   ]
  },
  {
   "cell_type": "code",
   "execution_count": 49,
   "metadata": {},
   "outputs": [
    {
     "data": {
      "image/png": "[encoded data removed]",
      "text/plain": [
       "<IPython.core.display.Image object>"
      ]
     },
     "metadata": {},
     "output_type": "display_data"
    }
   ],
   "source": [
    "plot(seasonH)"
   ]
  },
  {
   "cell_type": "markdown",
   "metadata": {},
   "source": [
    "Ahora vemos la primera diferencia de la tendencia estimada:"
   ]
  },
  {
   "cell_type": "code",
   "execution_count": 50,
   "metadata": {},
   "outputs": [
    {
     "data": {
      "image/png": "[encoded data removed]",
      "text/plain": [
       "<IPython.core.display.Image object>"
      ]
     },
     "metadata": {},
     "output_type": "display_data"
    }
   ],
   "source": [
    "dtrend=diff(trend(:,1));\n",
    "plot(dtrend)"
   ]
  },
  {
   "cell_type": "code",
   "execution_count": 60,
   "metadata": {},
   "outputs": [
    {
     "name": "stdout",
     "output_type": "stream",
     "text": [
      "AP_COMP_fechas =\r\n",
      "\r\n",
      "obs            AP          APtrend     APseason    APirreg     APsa     \r\n",
      "1949-01-01     112.00000   122.77236   -10.95322   0.18086     122.95322\r\n",
      "1949-02-01     118.00000   123.26750   -6.21712    0.94962     124.21712\r\n",
      "1949-03-01     132.00000   123.76264   10.09749    -1.86013    121.90251\r\n",
      "1949-04-01     129.00000   124.26192   2.29993     2.43815     126.70007\r\n",
      "1949-05-01     121.00000   124.79021   -3.45136    -0.33885    124.45136\r\n",
      "1949-06-01     135.00000   125.32361   8.33016     1.34623     126.66984\r\n",
      "1949-07-01     148.00000   125.89733   23.30990    -1.20723    124.69010\r\n",
      "1949-08-01     148.00000   126.52577   20.40972    1.06451     127.59028\r\n",
      "1949-09-01     136.00000   127.24739   9.17396     -0.42134    126.82604\r\n",
      "1949-10-01     119.00000   128.05969   -10.89419   1.83450     129.89419\r\n",
      "1949-11-01     104.00000   128.97474   -25.30495   0.33021     129.30495\r\n",
      "1949-12-01     118.00000   129.98083   -11.82675   -0.15408    129.82675\r\n",
      "1950-01-01     115.00000   131.10498   -13.00441   -3.10057    128.00441\r\n",
      "1950-02-01     126.00000   132.38090   -8.88859    2.50768     134.88859\r\n",
      "1950-03-01     141.00000   133.84097   9.42558     -2.26655    131.57442\r\n",
      "1950-04-01     135.00000   135.45093   -1.73657    1.28564     136.73657\r\n",
      "1950-05-01     125.00000   137.24829   -7.27967    -4.96862    132.27967\r\n",
      "1950-06-01     149.00000   139.20865   7.68123     2.11012     141.31877\r\n",
      "1950-07-01     170.00000   141.35805   27.99901    0.64294     142.00099\r\n",
      "1950-08-01     170.00000   143.61618   27.11567    -0.73185    142.88433\r\n",
      "1950-09-01     158.00000   145.96499   11.73541    0.29961     146.26459\r\n",
      "1950-10-01     133.00000   148.39296   -13.38409   -2.00887    146.38409\r\n",
      "1950-11-01     114.00000   150.87259   -33.66811   -3.20448    147.66811\r\n",
      "1950-12-01     140.00000   153.40954   -15.20872   1.79917     155.20872\r\n",
      "1951-01-01     145.00000   155.98611   -12.30017   1.31406     157.30017\r\n",
      "1951-02-01     150.00000   158.53799   -7.60828    -0.92970    157.60828\r\n",
      "1951-03-01     178.00000   161.04988   13.41602    3.53410     164.58398\r\n",
      "1951-04-01     163.00000   163.51467   1.26157     -1.77623    161.73843\r\n",
      "1951-05-01     172.00000   165.89309   -0.96036    7.06727     172.96036\r\n",
      "1951-06-01     178.00000   168.21163   13.06550    -3.27714    164.93450\r\n",
      "1951-07-01     199.00000   170.43048   27.05420    1.51532     171.94580\r\n",
      "1951-08-01     199.00000   172.65527   27.02804    -0.68331    171.97196\r\n",
      "1951-09-01     184.00000   174.87494   7.07264     2.05241     176.92736\r\n",
      "1951-10-01     162.00000   177.11385   -15.23620   0.12235     177.23620\r\n",
      "1951-11-01     146.00000   179.35366   -33.78985   0.43620     179.78985\r\n",
      "1951-12-01     166.00000   181.61665   -14.37611   -1.24055    180.37611\r\n",
      "1952-01-01     171.00000   183.92025   -11.81780   -1.10245    182.81780\r\n",
      "1952-02-01     180.00000   186.28822   -10.40759   4.11937     190.40759\r\n",
      "1952-03-01     193.00000   188.72205   10.19660    -5.91865    182.80340\r\n",
      "1952-04-01     181.00000   191.20552   -7.72850    -2.47702    188.72850\r\n",
      "1952-05-01     183.00000   193.84178   -7.24877    -3.59301    190.24877\r\n",
      "1952-06-01     218.00000   196.60249   14.38889    7.00862     203.61111\r\n",
      "1952-07-01     230.00000   199.43620   35.72233    -5.15852    194.27767\r\n",
      "1952-08-01     242.00000   202.22758   36.26687    3.50556     205.73313\r\n",
      "1952-09-01     209.00000   205.02223   9.64576     -5.66798    199.35424\r\n",
      "1952-10-01     191.00000   207.72804   -17.06665   0.33860     208.06665\r\n",
      "1952-11-01     172.00000   210.36476   -37.29068   -1.07408    209.29068\r\n",
      "1952-12-01     194.00000   212.84648   -18.92571   0.07922     212.92571\r\n",
      "1953-01-01     196.00000   215.14134   -17.32304   -1.81829    213.32304\r\n",
      "1953-02-01     196.00000   217.22043   -21.11318   -0.10725    217.11318\r\n",
      "1953-03-01     236.00000   219.08039   13.14118    3.77844     222.85882\r\n",
      "1953-04-01     235.00000   220.68132   6.53532     7.78335     228.46468\r\n",
      "1953-05-01     229.00000   221.99050   4.51845     2.49104     224.48155\r\n",
      "1953-06-01     242.00000   223.01504   20.02048    -1.03552    221.97952\r\n",
      "1953-07-01     264.00000   223.86102   39.47910    0.65988     224.52090\r\n",
      "1953-08-01     272.00000   224.62837   41.22512    6.14651     230.77488\r\n",
      "1953-09-01     237.00000   225.35099   11.36609    0.28292     225.63391\r\n",
      "1953-10-01     211.00000   226.02503   -15.99387   0.96884     226.99387\r\n",
      "1953-11-01     180.00000   226.73548   -44.61951   -2.11597    224.61951\r\n",
      "1953-12-01     201.00000   227.53652   -25.36222   -1.17430    226.36222\r\n",
      "1954-01-01     204.00000   228.50595   -24.29428   -0.21167    228.29428\r\n",
      "1954-02-01     188.00000   229.69686   -34.31072   -7.38614    222.31072\r\n",
      "1954-03-01     235.00000   231.15852   2.68628     1.15521     232.31372\r\n",
      "1954-04-01     227.00000   232.95676   -1.65109    -4.30567    228.65109\r\n",
      "1954-05-01     234.00000   235.03622   -2.17767    1.14144     236.17767\r\n",
      "1954-06-01     264.00000   237.43024   28.03594    -1.46618    235.96406\r\n",
      "1954-07-01     302.00000   240.09225   58.17763    3.73012     243.82237\r\n",
      "1954-08-01     293.00000   243.03266   52.94807    -2.98074    240.05193\r\n",
      "1954-09-01     259.00000   246.21098   13.49571    -0.70670    245.50429\r\n",
      "1954-10-01     229.00000   249.64438   -18.56331   -2.08107    247.56331\r\n",
      "1954-11-01     203.00000   253.27866   -51.00774   0.72909     254.00774\r\n",
      "1954-12-01     229.00000   257.08083   -25.68916   -2.39167    254.68916\r\n",
      "1955-01-01     242.00000   261.00057   -21.85129   2.85073     263.85129\r\n",
      "1955-02-01     233.00000   265.03408   -33.62482   1.59074     266.62482\r\n",
      "1955-03-01     267.00000   269.11760   0.85962     -2.97723    266.14038\r\n",
      "1955-04-01     269.00000   273.24409   -6.24026    1.99617     275.24026\r\n",
      "1955-05-01     270.00000   277.42837   -6.38821    -1.04016    276.38821\r\n",
      "1955-06-01     315.00000   281.61394   32.80119    0.58487     282.19881\r\n",
      "1955-07-01     364.00000   285.80090   71.52561    6.67349     292.47439\r\n",
      "1955-08-01     347.00000   289.95416   60.83174    -3.78590    286.16826\r\n",
      "1955-09-01     312.00000   294.02072   15.51885    2.46044     296.48115\r\n",
      "1955-10-01     274.00000   298.05446   -23.46602   -0.58844    297.46602\r\n",
      "1955-11-01     237.00000   301.98594   -60.91166   -4.07428    297.91166\r\n",
      "1955-12-01     278.00000   305.82656   -30.44315   2.61658     308.44315\r\n",
      "1956-01-01     284.00000   309.59519   -24.22259   -1.37260    308.22259\r\n",
      "1956-02-01     277.00000   313.24841   -38.82637   2.57796     315.82637\r\n",
      "1956-03-01     317.00000   316.82072   0.78238     -0.60311    316.21762\r\n",
      "1956-04-01     313.00000   320.29813   -8.51660    1.21847     321.51660\r\n",
      "1956-05-01     318.00000   323.72928   -5.72000    -0.00928    323.72000\r\n",
      "1956-06-01     374.00000   327.11940   42.81319    4.06742     331.18681\r\n",
      "1956-07-01     413.00000   330.48851   82.75852    -0.24703    330.24148\r\n",
      "1956-08-01     405.00000   333.83489   71.51491    -0.34980    333.48509\r\n",
      "1956-09-01     355.00000   337.20522   17.46301    0.33177     337.53699\r\n",
      "1956-10-01     306.00000   340.59944   -30.53256   -4.06689    336.53256\r\n",
      "1956-11-01     271.00000   343.98825   -70.43207   -2.55618    341.43207\r\n",
      "1956-12-01     306.00000   347.37306   -38.75696   -2.61609    344.75696\r\n",
      "1957-01-01     315.00000   350.71294   -32.69185   -3.02109    347.69185\r\n",
      "1957-02-01     301.00000   353.97336   -49.66887   -3.30448    350.66887\r\n",
      "1957-03-01     356.00000   357.12082   -2.73578    1.61496     358.73578\r\n",
      "1957-04-01     348.00000   360.10039   -12.00184   -0.09855    360.00184\r\n",
      "1957-05-01     355.00000   362.83807   -6.04588    -1.79219    361.04588\r\n",
      "1957-06-01     422.00000   365.32623   50.30539    6.36838     371.69461\r\n",
      "1957-07-01     465.00000   367.56185   96.99207    0.44609     368.00793\r\n",
      "1957-08-01     467.00000   369.49758   92.74367    4.75875     374.25633\r\n",
      "1957-09-01     404.00000   371.19536   27.73918    5.06546     376.26082\r\n",
      "1957-10-01     347.00000   372.63929   -25.73679   0.09751     372.73679\r\n",
      "1957-11-01     305.00000   373.83720   -70.36514   1.52793     375.36514\r\n",
      "1957-12-01     336.00000   374.86746   -41.40221   2.53475     377.40221\r\n",
      "1958-01-01     340.00000   375.77797   -35.18685   -0.59113    375.18685\r\n",
      "1958-02-01     318.00000   376.63626   -59.45478   0.81852     377.45478\r\n",
      "1958-03-01     362.00000   377.55591   -14.57943   -0.97648    376.57943\r\n",
      "1958-04-01     348.00000   378.60803   -27.28640   -3.32163    375.28640\r\n",
      "1958-05-01     363.00000   379.88769   -14.39426   -2.49343    377.39426\r\n",
      "1958-06-01     435.00000   381.47349   49.19036    4.33615     385.80964\r\n",
      "1958-07-01     491.00000   383.37677   111.05970   -3.43647    379.94030\r\n",
      "1958-08-01     505.00000   385.55645   112.47100   6.97255     392.52900\r\n",
      "1958-09-01     404.00000   388.07761   27.48010    -11.55771   376.51990\r\n",
      "1958-10-01     359.00000   390.89649   -32.42770   0.53120     391.42770\r\n",
      "1958-11-01     310.00000   394.13231   -80.94314   -3.18917    390.94314\r\n",
      "1958-12-01     337.00000   397.68540   -54.61753   -6.06787    391.61753\r\n",
      "1959-01-01     360.00000   401.56525   -41.07714   -0.48810    401.07714\r\n",
      "1959-02-01     342.00000   405.75842   -62.15353   -1.60489    404.15353\r\n",
      "1959-03-01     406.00000   410.16593   -11.73597   7.57004     417.73597\r\n",
      "1959-04-01     396.00000   414.70928   -14.56804   -4.14124    410.56804\r\n",
      "1959-05-01     420.00000   419.27884   -3.29194    4.01310     423.29194\r\n",
      "1959-06-01     472.00000   423.94728   51.41357    -3.36085    420.58643\r\n",
      "1959-07-01     548.00000   428.64692   118.78715   0.56594     429.21285\r\n",
      "1959-08-01     559.00000   433.39535   118.86728   6.73737     440.13272\r\n",
      "1959-09-01     463.00000   438.12143   26.24778    -1.36922    436.75222\r\n",
      "1959-10-01     407.00000   442.73261   -33.68625   -2.04636    440.68625\r\n",
      "1959-11-01     362.00000   447.26377   -85.75621   0.49244     447.75621\r\n",
      "1959-12-01     405.00000   451.69855   -52.40403   5.70548     457.40403\r\n",
      "1960-01-01     417.00000   455.97863   -36.77196   -2.20667    453.77196\r\n",
      "1960-02-01     391.00000   460.06885   -71.05237   1.98352     462.05237\r\n",
      "1960-03-01     419.00000   464.05198   -32.02338   -13.02860   451.02338\r\n",
      "1960-04-01     461.00000   467.93713   -19.92943   12.99230    480.92943\r\n",
      "1960-05-01     472.00000   471.81294   2.32934     -2.14228    469.67066\r\n",
      "1960-06-01     535.00000   475.49503   57.59068    1.91429     477.40932\r\n",
      "1960-07-01     622.00000   479.09488   138.47197   4.43315     483.52803\r\n",
      "1960-08-01     606.00000   482.58362   124.66379   -1.24741    481.33621\r\n",
      "1960-09-01     508.00000   485.96515   25.36300    -3.32815    482.63700\r\n",
      "1960-10-01     461.00000   489.30449   -33.28878   4.98428     494.28878\r\n",
      "1960-11-01     390.00000   492.62351   -94.91526   -7.70825    484.91526\r\n",
      "1960-12-01     432.00000   495.89371   -64.28930   0.39559     496.28930\r\n",
      "\r\n"
     ]
    }
   ],
   "source": [
    "mkdir estimacionesAP\n",
    "\n",
    "format bank\n",
    "\n",
    "function Y = colData (cabecera,data)\n",
    "    datos = num2str(data,\"%5.5f\");\n",
    "    Y = cat(1,strjoin ({cabecera,blanks(size(datos,2)-size(cabecera,2)-1)}), datos);\n",
    "endfunction\n",
    "\n",
    "sep=repmat(' ',[size(AP,1),3]);\n",
    "\n",
    "save(\"-ascii\", \"estimacionesAP/AP.dat\",        \"airpas\")\n",
    "save(\"-ascii\", \"estimacionesAP/APtrend.dat\",   \"trend\")\n",
    "save(\"-ascii\", \"estimacionesAP/APseason.dat\",  \"season\")\n",
    "save(\"-ascii\", \"estimacionesAP/APseasonH.dat\", \"seasonH\")\n",
    "save(\"-ascii\", \"estimacionesAP/APirreg.dat\",   \"irreg\")\n",
    "save(\"-ascii\", \"estimacionesAP/APsa.dat\",      \"APsa\")\n",
    "\n",
    "AP       = colData(\"AP\",      airpas);\n",
    "APtrend  = colData(\"APtrend\",  trend);\n",
    "APseason = colData(\"APseason\",season);\n",
    "APirreg  = colData(\"APirreg\",  irreg);\n",
    "APsa     = colData(\"APsa\",      APsa);\n",
    "\n",
    "AP_COMP_fechas=[timefmt4(12,1949,1,size(y,1)),sep, AP,sep, APtrend,sep, APseason,sep, APirreg,sep APsa];\n",
    "%save(\"-ascii\", \"estimacionesAP/AP_COMP_fechas.dat\",      \"AP_COMP_fechas\")\n",
    "\n",
    "AP_COMP_fechas"
   ]
  },
  {
   "cell_type": "code",
   "execution_count": null,
   "metadata": {},
   "outputs": [],
   "source": []
  }
 ],
 "metadata": {
  "kernelspec": {
   "display_name": "Octave",
   "language": "octave",
   "name": "octave"
  },
  "language_info": {
   "file_extension": ".m",
   "help_links": [
    {
     "text": "GNU Octave",
     "url": "https://www.gnu.org/software/octave/support.html"
    },
    {
     "text": "Octave Kernel",
     "url": "https://github.com/Calysto/octave_kernel"
    },
    {
     "text": "MetaKernel Magics",
     "url": "https://metakernel.readthedocs.io/en/latest/source/README.html"
    }
   ],
   "mimetype": "text/x-octave",
   "name": "octave",
   "version": "6.1.1~hg.2020.12.27-1"
  }
 },
 "nbformat": 4,
 "nbformat_minor": 4
}

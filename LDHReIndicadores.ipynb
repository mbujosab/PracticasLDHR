{
 "cells": [
  {
   "cell_type": "markdown",
   "metadata": {},
   "source": [
    "# Linear Dynamic Harmonic Regression (LDHR)"
   ]
  },
  {
   "cell_type": "markdown",
   "metadata": {},
   "source": [
    "Para el filtrado de las series temporales (filtro de Kalman y suavizado de intervalo fijo) usaremos la toolbok [E4](https://www.ucm.es/e-4/), para ello es necesario ejecutar lo siguiente:"
   ]
  },
  {
   "cell_type": "code",
   "execution_count": null,
   "metadata": {},
   "outputs": [],
   "source": [
    "e4init"
   ]
  },
  {
   "cell_type": "markdown",
   "metadata": {},
   "source": [
    "Tambien es necesario cargar el toolbox de control"
   ]
  },
  {
   "cell_type": "code",
   "execution_count": null,
   "metadata": {},
   "outputs": [],
   "source": [
    "pkg load control"
   ]
  },
  {
   "cell_type": "markdown",
   "metadata": {},
   "source": [
    "Cargamos los datos de la serie _\"lineas aéreas\"_"
   ]
  },
  {
   "cell_type": "code",
   "execution_count": null,
   "metadata": {},
   "outputs": [],
   "source": [
    "load airpas"
   ]
  },
  {
   "cell_type": "markdown",
   "metadata": {},
   "source": [
    "Por comodidad vamos a generar la variable 'y' con los mismos datos (es más cómodo escribir `y` que escribir `airpas`)"
   ]
  },
  {
   "cell_type": "code",
   "execution_count": null,
   "metadata": {},
   "outputs": [],
   "source": [
    "y = airpas;"
   ]
  },
  {
   "cell_type": "markdown",
   "metadata": {},
   "source": [
    "y ahora vamos a representar los datos de la serie de líneas aéreas"
   ]
  },
  {
   "cell_type": "code",
   "execution_count": null,
   "metadata": {},
   "outputs": [],
   "source": [
    "%plot --format png\n",
    "figure(1)\n",
    "grid on\n",
    "hold on\n",
    "title('Pasajeros de lineas aereas') % fallan los acentos\n",
    "plot(airpas, 'r')"
   ]
  },
  {
   "cell_type": "code",
   "execution_count": null,
   "metadata": {},
   "outputs": [],
   "source": [
    "#close(1) % por si generamos la figura en una ventana y la queremos cerrar después"
   ]
  },
  {
   "cell_type": "markdown",
   "metadata": {},
   "source": [
    "En `PaP` guadaremos un vector con los periodos correspondientes a la estacionalidad para datos mensuales:"
   ]
  },
  {
   "cell_type": "code",
   "execution_count": null,
   "metadata": {},
   "outputs": [],
   "source": [
    "PaP=12./(0:6)"
   ]
  },
  {
   "cell_type": "markdown",
   "metadata": {},
   "source": [
    "esta serie es un tanto especial, pues el pico espectral correspondiente al periodo 2 es muy ténue (o inexistente), por ello vamos a poner dos ceros para ese componente DHR (para que no trate de identificarlo). Si no lo hacemos así, identificará un modelo para la tendencia más volatil al tratar de ajustar un componente a las oscilaciones de periodo 2 (con la serie en logaritmos si se identifica un modelo IRW para la tendencia incluso si incormporamos el componente de periodo 2)."
   ]
  },
  {
   "cell_type": "code",
   "execution_count": null,
   "metadata": {},
   "outputs": [],
   "source": [
    "TVPaP=[1 1 1 1 1 1 0;1 0 0 0 0 0 0]"
   ]
  },
  {
   "cell_type": "code",
   "execution_count": null,
   "metadata": {},
   "outputs": [],
   "source": [
    "[VAR,P,TVP,oar]=autodhr(y,12,[],[],PaP,TVPaP) % la primera vez que lo ejecutemos nos dará unos warnings (luego no)"
   ]
  },
  {
   "cell_type": "markdown",
   "metadata": {},
   "source": [
    "Podemos calcular los ratios de varianzas (NVR) del siguiente modo:"
   ]
  },
  {
   "cell_type": "code",
   "execution_count": null,
   "metadata": {},
   "outputs": [],
   "source": [
    "NVR=VAR(2:8)./VAR(1)"
   ]
  },
  {
   "cell_type": "markdown",
   "metadata": {},
   "source": [
    "Vamos a filtrar los componentes con el modelo identificado"
   ]
  },
  {
   "cell_type": "code",
   "execution_count": null,
   "metadata": {},
   "outputs": [],
   "source": [
    "filt=0;\n",
    "[trend,season,cycle,irreg]=dhrfilt(y,P,TVP,VAR,12,filt,0);"
   ]
  },
  {
   "cell_type": "markdown",
   "metadata": {},
   "source": [
    "Visualicemos los componentes"
   ]
  },
  {
   "cell_type": "code",
   "execution_count": null,
   "metadata": {},
   "outputs": [],
   "source": [
    "plot([y,trend])"
   ]
  },
  {
   "cell_type": "code",
   "execution_count": null,
   "metadata": {},
   "outputs": [],
   "source": [
    "plot([season])"
   ]
  },
  {
   "cell_type": "markdown",
   "metadata": {},
   "source": [
    "no hemos indicado componente para un ciclo (frecuencia intermedia entre la tendencia (0) y la frecuencia del primer armónico estacional)"
   ]
  },
  {
   "cell_type": "code",
   "execution_count": null,
   "metadata": {},
   "outputs": [],
   "source": [
    "plot(cycle) %% constante cero"
   ]
  },
  {
   "cell_type": "code",
   "execution_count": null,
   "metadata": {},
   "outputs": [],
   "source": [
    "plot(irreg)"
   ]
  },
  {
   "cell_type": "markdown",
   "metadata": {},
   "source": [
    "Pintemos la serie desestacionalizada `(trend + irreg`)"
   ]
  },
  {
   "cell_type": "code",
   "execution_count": null,
   "metadata": {},
   "outputs": [],
   "source": [
    "APsa = trend+irreg;\n",
    "plot(APsa)"
   ]
  },
  {
   "cell_type": "code",
   "execution_count": null,
   "metadata": {},
   "outputs": [],
   "source": [
    "filt=2;  % distinta rutina de filtrado que nos devuelve cada armónico por separado\n",
    "[trend2,seasonH,cycle2,irreg2]=dhrfilt(y,P,TVP,VAR,12,filt,0);"
   ]
  },
  {
   "cell_type": "markdown",
   "metadata": {},
   "source": [
    "ahora `season` es una matriz cuyas columnas son los armónicos estimados"
   ]
  },
  {
   "cell_type": "code",
   "execution_count": null,
   "metadata": {},
   "outputs": [],
   "source": [
    "plot(seasonH)"
   ]
  },
  {
   "cell_type": "markdown",
   "metadata": {},
   "source": [
    "Ahora vemos la primera diferencia de la tendencia estimada:"
   ]
  },
  {
   "cell_type": "code",
   "execution_count": null,
   "metadata": {},
   "outputs": [],
   "source": [
    "dtrend=diff(trend(:,1));\n",
    "plot(dtrend)"
   ]
  },
  {
   "cell_type": "code",
   "execution_count": null,
   "metadata": {},
   "outputs": [],
   "source": [
    "mkdir estimacionesAP\n",
    "\n",
    "format bank\n",
    "\n",
    "function Y = colData (cabecera,data)\n",
    "    datos = num2str(data,\"%5.5f\");\n",
    "    Y = cat(1,strjoin ({cabecera,blanks(size(datos,2)-size(cabecera,2)-1)}), datos);\n",
    "endfunction\n",
    "\n",
    "sep=repmat(' ',[size(AP,1),3]);\n",
    "\n",
    "save(\"-ascii\", \"estimacionesAP/AP.dat\",        \"airpas\")\n",
    "save(\"-ascii\", \"estimacionesAP/APtrend.dat\",   \"trend\")\n",
    "save(\"-ascii\", \"estimacionesAP/APseason.dat\",  \"season\")\n",
    "save(\"-ascii\", \"estimacionesAP/APseasonH.dat\", \"seasonH\")\n",
    "save(\"-ascii\", \"estimacionesAP/APirreg.dat\",   \"irreg\")\n",
    "save(\"-ascii\", \"estimacionesAP/APsa.dat\",      \"APsa\")\n",
    "\n",
    "AP       = colData(\"AP\",      airpas);\n",
    "APtrend  = colData(\"APtrend\",  trend);\n",
    "APseason = colData(\"APseason\",season);\n",
    "APirreg  = colData(\"APirreg\",  irreg);\n",
    "APsa     = colData(\"APsa\",      APsa);\n",
    "\n",
    "AP_COMP_fechas=[timefmt4(12,1949,1,size(y,1)),sep, AP,sep, APtrend,sep, APseason,sep, APirreg,sep APsa];\n",
    "%save(\"-ascii\", \"estimacionesAP/AP_COMP_fechas.dat\",      \"AP_COMP_fechas\")\n",
    "\n",
    "AP_COMP_fechas"
   ]
  },
  {
   "cell_type": "code",
   "execution_count": null,
   "metadata": {},
   "outputs": [],
   "source": []
  }
 ],
 "metadata": {
  "kernelspec": {
   "display_name": "Octave",
   "language": "octave",
   "name": "octave"
  },
  "language_info": {
   "file_extension": ".m",
   "help_links": [
    {
     "text": "GNU Octave",
     "url": "https://www.gnu.org/software/octave/support.html"
    },
    {
     "text": "Octave Kernel",
     "url": "https://github.com/Calysto/octave_kernel"
    },
    {
     "text": "MetaKernel Magics",
     "url": "https://metakernel.readthedocs.io/en/latest/source/README.html"
    }
   ],
   "mimetype": "text/x-octave",
   "name": "octave",
   "version": "6.1.1~hg.2020.12.27-1"
  }
 },
 "nbformat": 4,
 "nbformat_minor": 4
}
